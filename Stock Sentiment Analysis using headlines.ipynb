{
 "metadata": {
  "language_info": {
   "codemirror_mode": {
    "name": "ipython",
    "version": 3
   },
   "file_extension": ".py",
   "mimetype": "text/x-python",
   "name": "python",
   "nbconvert_exporter": "python",
   "pygments_lexer": "ipython3",
   "version": "3.9.0"
  },
  "orig_nbformat": 2,
  "kernelspec": {
   "name": "python390jvsc74a57bd0f9ac0d975fe8b9c6d9b06cfda553d47330817cfc23cd6ab44a98e12b77f081c9",
   "display_name": "Python 3.9.0 64-bit ('venv': venv)"
  }
 },
 "nbformat": 4,
 "nbformat_minor": 2,
 "cells": [
  {
   "source": [
    "# Stock Sentiment Analysis"
   ],
   "cell_type": "markdown",
   "metadata": {}
  },
  {
   "cell_type": "code",
   "execution_count": 52,
   "metadata": {},
   "outputs": [],
   "source": [
    "# Import Libraries\n",
    "import pandas as pd"
   ]
  },
  {
   "cell_type": "code",
   "execution_count": 53,
   "metadata": {},
   "outputs": [
    {
     "output_type": "execute_result",
     "data": {
      "text/plain": [
       "         Date  Label                                               Top1  \\\n",
       "0  2000-01-03      0  A 'hindrance to operations': extracts from the...   \n",
       "\n",
       "        Top2                             Top3  \\\n",
       "0  Scorecard  Hughes' instant hit buoys Blues   \n",
       "\n",
       "                                       Top4  \\\n",
       "0  Jack gets his skates on at ice-cold Alex   \n",
       "\n",
       "                                     Top5  \\\n",
       "0  Chaos as Maracana builds up for United   \n",
       "\n",
       "                                                Top6  \\\n",
       "0  Depleted Leicester prevail as Elliott spoils E...   \n",
       "\n",
       "                               Top7                               Top8  ...  \\\n",
       "0  Hungry Spurs sense rich pickings  Gunners so wide of an easy target  ...   \n",
       "\n",
       "                                      Top16  \\\n",
       "0  Flintoff injury piles on woe for England   \n",
       "\n",
       "                                               Top17  \\\n",
       "0  Hunters threaten Jospin with new battle of the...   \n",
       "\n",
       "                                 Top18                                 Top19  \\\n",
       "0  Kohl's successor drawn into scandal  The difference between men and women   \n",
       "\n",
       "                                 Top20  \\\n",
       "0  Sara Denver, nurse turned solicitor   \n",
       "\n",
       "                                            Top21  \\\n",
       "0  Diana's landmine crusade put Tories in a panic   \n",
       "\n",
       "                                               Top22             Top23  \\\n",
       "0  Yeltsin's resignation caught opposition flat-f...  Russian roulette   \n",
       "\n",
       "      Top24               Top25  \n",
       "0  Sold out  Recovering a title  \n",
       "\n",
       "[1 rows x 27 columns]"
      ],
      "text/html": "<div>\n<style scoped>\n    .dataframe tbody tr th:only-of-type {\n        vertical-align: middle;\n    }\n\n    .dataframe tbody tr th {\n        vertical-align: top;\n    }\n\n    .dataframe thead th {\n        text-align: right;\n    }\n</style>\n<table border=\"1\" class=\"dataframe\">\n  <thead>\n    <tr style=\"text-align: right;\">\n      <th></th>\n      <th>Date</th>\n      <th>Label</th>\n      <th>Top1</th>\n      <th>Top2</th>\n      <th>Top3</th>\n      <th>Top4</th>\n      <th>Top5</th>\n      <th>Top6</th>\n      <th>Top7</th>\n      <th>Top8</th>\n      <th>...</th>\n      <th>Top16</th>\n      <th>Top17</th>\n      <th>Top18</th>\n      <th>Top19</th>\n      <th>Top20</th>\n      <th>Top21</th>\n      <th>Top22</th>\n      <th>Top23</th>\n      <th>Top24</th>\n      <th>Top25</th>\n    </tr>\n  </thead>\n  <tbody>\n    <tr>\n      <th>0</th>\n      <td>2000-01-03</td>\n      <td>0</td>\n      <td>A 'hindrance to operations': extracts from the...</td>\n      <td>Scorecard</td>\n      <td>Hughes' instant hit buoys Blues</td>\n      <td>Jack gets his skates on at ice-cold Alex</td>\n      <td>Chaos as Maracana builds up for United</td>\n      <td>Depleted Leicester prevail as Elliott spoils E...</td>\n      <td>Hungry Spurs sense rich pickings</td>\n      <td>Gunners so wide of an easy target</td>\n      <td>...</td>\n      <td>Flintoff injury piles on woe for England</td>\n      <td>Hunters threaten Jospin with new battle of the...</td>\n      <td>Kohl's successor drawn into scandal</td>\n      <td>The difference between men and women</td>\n      <td>Sara Denver, nurse turned solicitor</td>\n      <td>Diana's landmine crusade put Tories in a panic</td>\n      <td>Yeltsin's resignation caught opposition flat-f...</td>\n      <td>Russian roulette</td>\n      <td>Sold out</td>\n      <td>Recovering a title</td>\n    </tr>\n  </tbody>\n</table>\n<p>1 rows × 27 columns</p>\n</div>"
     },
     "metadata": {},
     "execution_count": 53
    }
   ],
   "source": [
    "# Import Dataset\n",
    "df = pd.read_csv(\"E:/Pycharm Projects/Machine_Learning/Stock Price Prediction/data.csv\", encoding = \"ISO-8859-1\")\n",
    "df.head(1)"
   ]
  },
  {
   "cell_type": "code",
   "execution_count": 54,
   "metadata": {},
   "outputs": [],
   "source": [
    "# Splitting Data into Train and Test\n",
    "train = df[df['Date'] < '20150101']\n",
    "test = df[df['Date'] > '20141231']"
   ]
  },
  {
   "cell_type": "code",
   "execution_count": 55,
   "metadata": {},
   "outputs": [],
   "source": [
    "# Removing Special Characters\n",
    "data = train.iloc[:, 2:27]\n",
    "data = data.replace(\"[^a-zA-Z]\", \" \", regex = True)"
   ]
  },
  {
   "cell_type": "code",
   "execution_count": 56,
   "metadata": {},
   "outputs": [
    {
     "output_type": "execute_result",
     "data": {
      "text/plain": [
       "                                                   0          1  \\\n",
       "0  A  hindrance to operations   extracts from the...  Scorecard   \n",
       "\n",
       "                                 2                                         3  \\\n",
       "0  Hughes  instant hit buoys Blues  Jack gets his skates on at ice cold Alex   \n",
       "\n",
       "                                        4  \\\n",
       "0  Chaos as Maracana builds up for United   \n",
       "\n",
       "                                                   5  \\\n",
       "0  Depleted Leicester prevail as Elliott spoils E...   \n",
       "\n",
       "                                  6                                  7  \\\n",
       "0  Hungry Spurs sense rich pickings  Gunners so wide of an easy target   \n",
       "\n",
       "                                               8  \\\n",
       "0  Derby raise a glass to Strupar s debut double   \n",
       "\n",
       "                                          9  ...  \\\n",
       "0  Southgate strikes  Leeds pay the penalty  ...   \n",
       "\n",
       "                                         15  \\\n",
       "0  Flintoff injury piles on woe for England   \n",
       "\n",
       "                                                  16  \\\n",
       "0  Hunters threaten Jospin with new battle of the...   \n",
       "\n",
       "                                    17                                    18  \\\n",
       "0  Kohl s successor drawn into scandal  The difference between men and women   \n",
       "\n",
       "                                    19  \\\n",
       "0  Sara Denver  nurse turned solicitor   \n",
       "\n",
       "                                               20  \\\n",
       "0  Diana s landmine crusade put Tories in a panic   \n",
       "\n",
       "                                                  21                22  \\\n",
       "0  Yeltsin s resignation caught opposition flat f...  Russian roulette   \n",
       "\n",
       "         23                  24  \n",
       "0  Sold out  Recovering a title  \n",
       "\n",
       "[1 rows x 25 columns]"
      ],
      "text/html": "<div>\n<style scoped>\n    .dataframe tbody tr th:only-of-type {\n        vertical-align: middle;\n    }\n\n    .dataframe tbody tr th {\n        vertical-align: top;\n    }\n\n    .dataframe thead th {\n        text-align: right;\n    }\n</style>\n<table border=\"1\" class=\"dataframe\">\n  <thead>\n    <tr style=\"text-align: right;\">\n      <th></th>\n      <th>0</th>\n      <th>1</th>\n      <th>2</th>\n      <th>3</th>\n      <th>4</th>\n      <th>5</th>\n      <th>6</th>\n      <th>7</th>\n      <th>8</th>\n      <th>9</th>\n      <th>...</th>\n      <th>15</th>\n      <th>16</th>\n      <th>17</th>\n      <th>18</th>\n      <th>19</th>\n      <th>20</th>\n      <th>21</th>\n      <th>22</th>\n      <th>23</th>\n      <th>24</th>\n    </tr>\n  </thead>\n  <tbody>\n    <tr>\n      <th>0</th>\n      <td>A  hindrance to operations   extracts from the...</td>\n      <td>Scorecard</td>\n      <td>Hughes  instant hit buoys Blues</td>\n      <td>Jack gets his skates on at ice cold Alex</td>\n      <td>Chaos as Maracana builds up for United</td>\n      <td>Depleted Leicester prevail as Elliott spoils E...</td>\n      <td>Hungry Spurs sense rich pickings</td>\n      <td>Gunners so wide of an easy target</td>\n      <td>Derby raise a glass to Strupar s debut double</td>\n      <td>Southgate strikes  Leeds pay the penalty</td>\n      <td>...</td>\n      <td>Flintoff injury piles on woe for England</td>\n      <td>Hunters threaten Jospin with new battle of the...</td>\n      <td>Kohl s successor drawn into scandal</td>\n      <td>The difference between men and women</td>\n      <td>Sara Denver  nurse turned solicitor</td>\n      <td>Diana s landmine crusade put Tories in a panic</td>\n      <td>Yeltsin s resignation caught opposition flat f...</td>\n      <td>Russian roulette</td>\n      <td>Sold out</td>\n      <td>Recovering a title</td>\n    </tr>\n  </tbody>\n</table>\n<p>1 rows × 25 columns</p>\n</div>"
     },
     "metadata": {},
     "execution_count": 56
    }
   ],
   "source": [
    "# Renaming columns\n",
    "new_columns = [str(i) for i in range(0, 25)]\n",
    "data.columns = new_columns\n",
    "data.head(1)"
   ]
  },
  {
   "cell_type": "code",
   "execution_count": 57,
   "metadata": {},
   "outputs": [],
   "source": [
    "# Converting Headlines to Lower case\n",
    "for col in new_columns:\n",
    "    data[col] = data[col].str.lower()"
   ]
  },
  {
   "cell_type": "code",
   "execution_count": 58,
   "metadata": {},
   "outputs": [],
   "source": [
    "# Combining All Headlines\n",
    "Headlines = data[\"0\"]\n",
    "for i in data.columns[1:25]:\n",
    "    Headlines = Headlines + \" \" + data[i]"
   ]
  },
  {
   "cell_type": "code",
   "execution_count": 61,
   "metadata": {},
   "outputs": [],
   "source": [
    "Headlines = [str(i) for i in Headlines]"
   ]
  },
  {
   "source": [
    "## 1. Bag of Words:"
   ],
   "cell_type": "markdown",
   "metadata": {}
  },
  {
   "cell_type": "code",
   "execution_count": 62,
   "metadata": {},
   "outputs": [],
   "source": [
    "\n",
    "from sklearn.feature_extraction.text import CountVectorizer\n",
    "from sklearn.ensemble import RandomForestClassifier"
   ]
  },
  {
   "cell_type": "code",
   "execution_count": 63,
   "metadata": {},
   "outputs": [],
   "source": [
    "# Bag of words\n",
    "cv = CountVectorizer(ngram_range = (2,2))\n",
    "X_train = cv.fit_transform(Headlines)"
   ]
  },
  {
   "cell_type": "code",
   "execution_count": 64,
   "metadata": {},
   "outputs": [
    {
     "output_type": "execute_result",
     "data": {
      "text/plain": [
       "(3975, 583890)"
      ]
     },
     "metadata": {},
     "execution_count": 64
    }
   ],
   "source": [
    "X_train.shape"
   ]
  },
  {
   "cell_type": "code",
   "execution_count": 76,
   "metadata": {},
   "outputs": [],
   "source": [
    "#"
   ]
  },
  {
   "cell_type": "code",
   "execution_count": 79,
   "metadata": {},
   "outputs": [],
   "source": [
    "# Preparing Test Dataset\n",
    "data_test = test.iloc[:, 2:27]\n",
    "test_transform = data_test[\"Top1\"]\n",
    "for i in data_test.columns[1:]:\n",
    "    test_transform = test_transform + \" \" + data_test[i]\n",
    "\n",
    "test_dataset = cv.transform(test_transform)"
   ]
  },
  {
   "cell_type": "code",
   "execution_count": 82,
   "metadata": {},
   "outputs": [
    {
     "output_type": "execute_result",
     "data": {
      "text/plain": [
       "RandomForestClassifier(criterion='entropy', n_estimators=200)"
      ]
     },
     "metadata": {},
     "execution_count": 82
    }
   ],
   "source": [
    "# implement RandomForest Classifier\n",
    "randomclassifier=RandomForestClassifier(n_estimators=200,criterion='entropy')\n",
    "randomclassifier.fit(X_train,train['Label'])"
   ]
  },
  {
   "cell_type": "code",
   "execution_count": 83,
   "metadata": {},
   "outputs": [],
   "source": [
    "predictions = randomclassifier.predict(test_dataset)"
   ]
  },
  {
   "cell_type": "code",
   "execution_count": 84,
   "metadata": {},
   "outputs": [],
   "source": [
    "## Performance Metrics\n",
    "from sklearn.metrics import classification_report,confusion_matrix,accuracy_score"
   ]
  },
  {
   "cell_type": "code",
   "execution_count": 85,
   "metadata": {},
   "outputs": [
    {
     "output_type": "stream",
     "name": "stdout",
     "text": [
      "[[139  47]\n [  7 185]]\n0.8571428571428571\n              precision    recall  f1-score   support\n\n           0       0.95      0.75      0.84       186\n           1       0.80      0.96      0.87       192\n\n    accuracy                           0.86       378\n   macro avg       0.87      0.86      0.85       378\nweighted avg       0.87      0.86      0.86       378\n\n"
     ]
    }
   ],
   "source": [
    "matrix=confusion_matrix(test['Label'],predictions)\n",
    "print(matrix)\n",
    "score=accuracy_score(test['Label'],predictions)\n",
    "print(score)\n",
    "report=classification_report(test['Label'],predictions)\n",
    "print(report)"
   ]
  },
  {
   "source": [
    "## 2. TfidfVectorizer:"
   ],
   "cell_type": "markdown",
   "metadata": {}
  },
  {
   "cell_type": "code",
   "execution_count": 91,
   "metadata": {},
   "outputs": [],
   "source": [
    "# Import TfidfVectorizer\n",
    "from sklearn.feature_extraction.text import TfidfVectorizer\n",
    "Tfidf_vectorizer = TfidfVectorizer(ngram_range = (2,2))\n",
    "X_train = Tfidf_vectorizer.fit_transform(Headlines)\n",
    "X_test = Tfidf_vectorizer.transform(test_transform)"
   ]
  },
  {
   "cell_type": "code",
   "execution_count": 92,
   "metadata": {},
   "outputs": [
    {
     "output_type": "execute_result",
     "data": {
      "text/plain": [
       "RandomForestClassifier(criterion='entropy', n_estimators=200)"
      ]
     },
     "metadata": {},
     "execution_count": 92
    }
   ],
   "source": [
    "# implement RandomForest Classifier\n",
    "randomclassifier=RandomForestClassifier(n_estimators=200,criterion='entropy')\n",
    "randomclassifier.fit(X_train,train['Label'])"
   ]
  },
  {
   "cell_type": "code",
   "execution_count": 94,
   "metadata": {},
   "outputs": [],
   "source": [
    "predictions = randomclassifier.predict(X_test)"
   ]
  },
  {
   "cell_type": "code",
   "execution_count": 95,
   "metadata": {},
   "outputs": [
    {
     "output_type": "stream",
     "name": "stdout",
     "text": [
      "[[144  42]\n [ 16 176]]\n0.8465608465608465\n              precision    recall  f1-score   support\n\n           0       0.90      0.77      0.83       186\n           1       0.81      0.92      0.86       192\n\n    accuracy                           0.85       378\n   macro avg       0.85      0.85      0.85       378\nweighted avg       0.85      0.85      0.85       378\n\n"
     ]
    }
   ],
   "source": [
    "matrix=confusion_matrix(test['Label'],predictions)\n",
    "print(matrix)\n",
    "score=accuracy_score(test['Label'],predictions)\n",
    "print(score)\n",
    "report=classification_report(test['Label'],predictions)\n",
    "print(report)"
   ]
  },
  {
   "source": [
    "## Bag of words accuracy = 8571\n",
    "## Tfidf accuracy = 0.8465"
   ],
   "cell_type": "markdown",
   "metadata": {}
  }
 ]
}